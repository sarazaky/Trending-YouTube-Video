{
 "cells": [
  {
   "cell_type": "code",
   "execution_count": 6,
   "metadata": {},
   "outputs": [],
   "source": [
    "import pandas as pd\n",
    "import glob\n",
    "path =r'../Files/Data/'\n",
    "filenames = glob.glob(path + \"*.csv\")\n",
    "\n",
    "index = 0\n",
    "for filename in filenames:\n",
    "    df = pd.read_csv(filename)\n",
    "    df.drop(columns=['video_id','title', 'channel_title', 'thumbnail_link', 'comments_disabled', 'ratings_disabled',\n",
    "       'video_error_or_removed', 'description',], inplace=True)\n",
    "    df.to_csv(filename, index=False)\n",
    "    index+=1\n"
   ]
  },
  {
   "cell_type": "code",
   "execution_count": null,
   "metadata": {},
   "outputs": [],
   "source": []
  }
 ],
 "metadata": {
  "kernelspec": {
   "display_name": "Python 3",
   "language": "python",
   "name": "python3"
  },
  "language_info": {
   "codemirror_mode": {
    "name": "ipython",
    "version": 3
   },
   "file_extension": ".py",
   "mimetype": "text/x-python",
   "name": "python",
   "nbconvert_exporter": "python",
   "pygments_lexer": "ipython3",
   "version": "3.8.5"
  }
 },
 "nbformat": 4,
 "nbformat_minor": 4
}
