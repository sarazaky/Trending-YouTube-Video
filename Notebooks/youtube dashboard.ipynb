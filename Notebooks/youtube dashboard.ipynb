{
 "cells": [
  {
   "cell_type": "code",
   "execution_count": 1,
   "metadata": {},
   "outputs": [],
   "source": [
    "import dash\n",
    "from dash import html\n",
    "from dash import dcc\n",
    "from dash.dependencies import Input, Output, State\n",
    "\n",
    "import plotly.express as px\n",
    "import plotly.figure_factory as ff\n",
    "\n",
    "import pandas as pd\n",
    "import numpy as np"
   ]
  },
  {
   "cell_type": "code",
   "execution_count": 2,
   "metadata": {},
   "outputs": [],
   "source": [
    "temp_col = \"plotly_dark\"\n",
    "fig_color = px.colors.cyclical.Twilight\n",
    "# fig_color = px.colors.diverging.Geyser"
   ]
  },
  {
   "cell_type": "code",
   "execution_count": 3,
   "metadata": {},
   "outputs": [],
   "source": [
    "css_link =\"https://codepen.io/chriddyp/pen/bWLwgP.css\"\n",
    "app = dash.Dash(__name__, external_stylesheets =[css_link])"
   ]
  },
  {
   "cell_type": "markdown",
   "metadata": {},
   "source": [
    "Read Data"
   ]
  },
  {
   "cell_type": "code",
   "execution_count": 4,
   "metadata": {},
   "outputs": [],
   "source": [
    "df = pd.read_csv(\"../Files/data.csv\")"
   ]
  },
  {
   "cell_type": "code",
   "execution_count": 5,
   "metadata": {},
   "outputs": [
    {
     "name": "stdout",
     "output_type": "stream",
     "text": [
      "<class 'pandas.core.frame.DataFrame'>\n",
      "RangeIndex: 120746 entries, 0 to 120745\n",
      "Data columns (total 14 columns):\n",
      " #   Column         Non-Null Count   Dtype \n",
      "---  ------         --------------   ----- \n",
      " 0   trending_date  120746 non-null  object\n",
      " 1   category_id    120746 non-null  int64 \n",
      " 2   publish_time   120746 non-null  object\n",
      " 3   tags           120746 non-null  object\n",
      " 4   views          120746 non-null  int64 \n",
      " 5   likes          120746 non-null  int64 \n",
      " 6   dislikes       120746 non-null  int64 \n",
      " 7   comment_count  120746 non-null  int64 \n",
      " 8   Country        120746 non-null  object\n",
      " 9   category       120746 non-null  object\n",
      " 10  Year           120746 non-null  int64 \n",
      " 11  Month          120746 non-null  int64 \n",
      " 12  Day            120746 non-null  int64 \n",
      " 13  Weekday        120746 non-null  object\n",
      "dtypes: int64(8), object(6)\n",
      "memory usage: 12.9+ MB\n"
     ]
    }
   ],
   "source": [
    "df.info()"
   ]
  },
  {
   "cell_type": "markdown",
   "metadata": {},
   "source": [
    "Prepare Numerical columns"
   ]
  },
  {
   "cell_type": "code",
   "execution_count": 6,
   "metadata": {},
   "outputs": [],
   "source": [
    "numerical_cols = ['views','likes','dislikes','comment_count']\n",
    "log_numerical_cols = []\n",
    "\n",
    "for col in numerical_cols:\n",
    "    df[col.upper()] = np.log(df[col] + 1)\n",
    "    log_numerical_cols.append(col.upper())\n"
   ]
  },
  {
   "cell_type": "markdown",
   "metadata": {},
   "source": [
    "Heatmap of the correaltion between important features"
   ]
  },
  {
   "cell_type": "code",
   "execution_count": 7,
   "metadata": {},
   "outputs": [],
   "source": [
    "z = df[numerical_cols].corr().to_numpy()\n",
    "z = np.around(z, decimals=2)[::-1]\n",
    "cor_fig = ff.create_annotated_heatmap(z,x=numerical_cols[::-1], y=numerical_cols, colorscale=fig_color)\n",
    "\n",
    "cor_fig['layout']['yaxis']['tickfont']['color'] = \"white\"\n",
    "cor_fig['layout']['xaxis']['tickfont']['color'] = \"white\""
   ]
  },
  {
   "cell_type": "markdown",
   "metadata": {},
   "source": [
    "Line Plot of date vs (views, count)"
   ]
  },
  {
   "cell_type": "code",
   "execution_count": 8,
   "metadata": {},
   "outputs": [],
   "source": [
    "df1 = df.groupby([\"Country\", \"trending_date\"], as_index=False).sum()\n",
    "fig_line = px.line(df1, x=\"trending_date\", y=\"views\", color=\"Country\", template= temp_col,color_discrete_sequence=fig_color)"
   ]
  },
  {
   "cell_type": "markdown",
   "metadata": {},
   "source": [
    "Scatter Plot between Publish_Time vs Trending Date"
   ]
  },
  {
   "cell_type": "code",
   "execution_count": 9,
   "metadata": {},
   "outputs": [],
   "source": [
    "fig_pub = px.scatter(df,x='trending_date',y=\"publish_time\", template= temp_col,color_discrete_sequence=fig_color)"
   ]
  },
  {
   "cell_type": "markdown",
   "metadata": {},
   "source": [
    "HTML Page Code"
   ]
  },
  {
   "cell_type": "code",
   "execution_count": 10,
   "metadata": {},
   "outputs": [],
   "source": [
    "app.layout = html.Div(\n",
    "    [\n",
    "        html.H4(\"Trending YouTube Video Statistics\"),\n",
    "                \n",
    "        html.Div(\n",
    "            [\n",
    "                html.Div(\n",
    "                    [\n",
    "                        html.P(\"Features Distribution.\"),\n",
    "                        dcc.RadioItems(\n",
    "                            id='radio',\n",
    "                            options=[\n",
    "                                     {'label': 'views', 'value': 'VIEWS'},\n",
    "                                     {'label': 'likes', 'value': 'LIKES'},\n",
    "                                     {'label': 'dislikes', 'value': 'DISLIKES'},\n",
    "                                     {'label': 'comments count', 'value': 'COMMENT_COUNT'},\n",
    "                                     {'label': 'All', 'value': 'all'}\n",
    "                                    ],\n",
    "                            value='all',\n",
    "                        ),\n",
    "                        dcc.Graph(id='graph'),\n",
    "                        \n",
    "                    ]\n",
    "                ),\n",
    "                html.Div(\n",
    "                    [\n",
    "                        html.P(\"Correaltion Between Numerical Features.\"),\n",
    "                        dcc.Graph(figure=cor_fig)\n",
    "                    ], className= \"heatmap\"\n",
    "                ),\n",
    "                html.Div(\n",
    "                    [\n",
    "                        html.P(\"Time Scale.\"),\n",
    "                        dcc.Dropdown(\n",
    "                            id='dropdown1',\n",
    "                            options=[{'label': i, 'value': i} for i in [\"Year\", \"Month\", \"Day\", \"Weekday\"]],\n",
    "                            value=\"Year\"\n",
    "                        ),\n",
    "                        html.P(\"Trending Videos Over Time.\"),\n",
    "                        dcc.Graph(id='my_figure'),\n",
    "                    ]\n",
    "                ),\n",
    "                \n",
    "                \n",
    "            ],className= \"con\"\n",
    "        ),   \n",
    "        \n",
    "        html.Div(\n",
    "            [\n",
    "                html.Div(\n",
    "                    [\n",
    "                        html.P(\"Views Over Time\"),\n",
    "                        dcc.Graph(figure = fig_line),\n",
    "                    ]\n",
    "                ),\n",
    "                html.Div(\n",
    "                    [\n",
    "                        html.P(\"Trending Date VS Publish Date\"),\n",
    "                        dcc.Graph(figure = fig_pub)\n",
    "                    ]\n",
    "                ),\n",
    "                \n",
    "                \n",
    "                \n",
    "            ],className= \"con\"\n",
    "        ),   \n",
    "        \n",
    "        html.Div(\n",
    "            [\n",
    "                \n",
    "                html.Div(\n",
    "                    [\n",
    "                        html.P(\"Statistics About Each Category.\"),\n",
    "                        dcc.Graph( id = \"cat_figure\"),\n",
    "                        html.Div(\n",
    "                            [\n",
    "                                html.P(\"Select Feature\"),\n",
    "                                dcc.Dropdown(\n",
    "                                    id='cat_dropdown',\n",
    "                                    options=[{'label': i, 'value': i} for i in [\"Count Videos\", \"views\", \"likes\", \"dislikes\", 'comment_count']],\n",
    "                                    value=\"Count Videos\"\n",
    "                                ),\n",
    "                            ], className = \"drop_con\"\n",
    "                        ),\n",
    "                        \n",
    "                        \n",
    "                    ]\n",
    "                ),\n",
    "                \n",
    "            ], className= \"con\"\n",
    "        ),  \n",
    "        html.Div(\n",
    "            [\n",
    "               html.Div(\n",
    "                    [\n",
    "                        html.Span(\"copyright ©\"),\n",
    "                        html.A(\"Noha Saeed\", href=\"https://www.linkedin.com/in/noha-saeed-762142205/\"),\n",
    "                        html.A(\"Sara Zaky\", href=\"https://www.linkedin.com/in/sarazaky/\"),\n",
    "                    ]\n",
    "                ),\n",
    "                html.Div(\n",
    "                    [\n",
    "                        html.Span(\"GitHub: \"),\n",
    "                        html.A(\"Trending YouTube Video\", href=\"https://github.com/sarazaky/Trending-YouTube-Video\"),\n",
    "                    ]\n",
    "                ), \n",
    "            ], className= \"footer\"\n",
    "        )\n",
    "        \n",
    "    ]\n",
    ")"
   ]
  },
  {
   "cell_type": "markdown",
   "metadata": {},
   "source": [
    "Distribution of Numerical feature"
   ]
  },
  {
   "cell_type": "code",
   "execution_count": 11,
   "metadata": {},
   "outputs": [],
   "source": [
    "@app.callback(\n",
    "    Output('graph', 'figure'),\n",
    "    [Input(component_id='radio', component_property='value')]\n",
    ")\n",
    "def update_dis_fig(radio_value):\n",
    "    if radio_value == \"all\":\n",
    "        fig_distribution = px.histogram(df, x=log_numerical_cols,color_discrete_sequence=fig_color, template= temp_col)\n",
    "    else :\n",
    "        fig_distribution = px.histogram(df, x=radio_value,color_discrete_sequence=fig_color, template= temp_col)\n",
    "        \n",
    "    return fig_distribution"
   ]
  },
  {
   "cell_type": "markdown",
   "metadata": {},
   "source": [
    "NO of Trending videos in each category for each country"
   ]
  },
  {
   "cell_type": "code",
   "execution_count": 12,
   "metadata": {},
   "outputs": [],
   "source": [
    "@app.callback(\n",
    "    Output(component_id=\"cat_figure\", component_property=\"figure\"),\n",
    "    \n",
    "    Input(component_id=\"cat_dropdown\", component_property=\"value\") \n",
    ")\n",
    "def update_cat_div(drop_value):\n",
    "    if drop_value == \"Count Videos\":\n",
    "        fig = px.histogram(df, x='category',color='Country', color_discrete_sequence=fig_color,  template= temp_col)\n",
    "    else:\n",
    "        fig = px.histogram(df, x='category', y=drop_value, color='Country', \n",
    "                           color_discrete_sequence=fig_color, template= temp_col)\n",
    "    return fig"
   ]
  },
  {
   "cell_type": "markdown",
   "metadata": {},
   "source": [
    "No. of Rows for each Time Period"
   ]
  },
  {
   "cell_type": "code",
   "execution_count": 13,
   "metadata": {},
   "outputs": [],
   "source": [
    "@app.callback(\n",
    "    Output(component_id=\"my_figure\", component_property=\"figure\"),\n",
    "    \n",
    "    Input(component_id=\"dropdown1\", component_property=\"value\") \n",
    ")\n",
    "def update_my_div(drop_value):\n",
    "    fig = px.histogram(df, x=drop_value, color='Country', color_discrete_sequence=fig_color, template= temp_col)\n",
    "    return fig"
   ]
  },
  {
   "cell_type": "code",
   "execution_count": null,
   "metadata": {},
   "outputs": [],
   "source": []
  },
  {
   "cell_type": "code",
   "execution_count": null,
   "metadata": {},
   "outputs": [],
   "source": []
  },
  {
   "cell_type": "code",
   "execution_count": null,
   "metadata": {},
   "outputs": [
    {
     "name": "stdout",
     "output_type": "stream",
     "text": [
      "Dash is running on http://127.0.0.1:8050/\n",
      "\n",
      " * Serving Flask app \"__main__\" (lazy loading)\n",
      " * Environment: production\n",
      "   WARNING: This is a development server. Do not use it in a production deployment.\n",
      "   Use a production WSGI server instead.\n",
      " * Debug mode: off\n"
     ]
    },
    {
     "name": "stderr",
     "output_type": "stream",
     "text": [
      " * Running on http://127.0.0.1:8050/ (Press CTRL+C to quit)\n",
      "127.0.0.1 - - [28/Oct/2021 15:40:14] \"\u001b[37mGET / HTTP/1.1\u001b[0m\" 200 -\n",
      "127.0.0.1 - - [28/Oct/2021 15:40:15] \"\u001b[37mGET /_dash-dependencies HTTP/1.1\u001b[0m\" 200 -\n",
      "127.0.0.1 - - [28/Oct/2021 15:40:15] \"\u001b[37mGET /_dash-layout HTTP/1.1\u001b[0m\" 200 -\n",
      "127.0.0.1 - - [28/Oct/2021 15:40:16] \"\u001b[37mGET /_dash-component-suites/dash/dcc/async-graph.js HTTP/1.1\u001b[0m\" 200 -\n",
      "127.0.0.1 - - [28/Oct/2021 15:40:16] \"\u001b[37mGET /_dash-component-suites/dash/dcc/async-dropdown.js HTTP/1.1\u001b[0m\" 200 -\n",
      "127.0.0.1 - - [28/Oct/2021 15:40:16] \"\u001b[37mGET /_dash-component-suites/dash/dcc/async-plotlyjs.js HTTP/1.1\u001b[0m\" 200 -\n",
      "127.0.0.1 - - [28/Oct/2021 15:40:17] \"\u001b[37mPOST /_dash-update-component HTTP/1.1\u001b[0m\" 200 -\n",
      "127.0.0.1 - - [28/Oct/2021 15:40:17] \"\u001b[37mPOST /_dash-update-component HTTP/1.1\u001b[0m\" 200 -\n",
      "127.0.0.1 - - [28/Oct/2021 15:40:18] \"\u001b[37mPOST /_dash-update-component HTTP/1.1\u001b[0m\" 200 -\n",
      "127.0.0.1 - - [28/Oct/2021 15:41:58] \"\u001b[37mGET / HTTP/1.1\u001b[0m\" 200 -\n",
      "127.0.0.1 - - [28/Oct/2021 15:41:58] \"\u001b[37mGET /assets/style.css?m=1635428515.5951009 HTTP/1.1\u001b[0m\" 200 -\n",
      "127.0.0.1 - - [28/Oct/2021 15:41:59] \"\u001b[37mGET /_dash-dependencies HTTP/1.1\u001b[0m\" 200 -\n",
      "127.0.0.1 - - [28/Oct/2021 15:41:59] \"\u001b[37mGET /_dash-layout HTTP/1.1\u001b[0m\" 200 -\n",
      "127.0.0.1 - - [28/Oct/2021 15:41:59] \"\u001b[37mGET /_favicon.ico?v=2.0.0 HTTP/1.1\u001b[0m\" 200 -\n",
      "127.0.0.1 - - [28/Oct/2021 15:41:59] \"\u001b[37mGET /_dash-component-suites/dash/dcc/async-graph.js HTTP/1.1\u001b[0m\" 200 -\n",
      "127.0.0.1 - - [28/Oct/2021 15:41:59] \"\u001b[37mGET /_dash-component-suites/dash/dcc/async-dropdown.js HTTP/1.1\u001b[0m\" 200 -\n",
      "127.0.0.1 - - [28/Oct/2021 15:41:59] \"\u001b[37mGET /_dash-component-suites/dash/dcc/async-plotlyjs.js HTTP/1.1\u001b[0m\" 200 -\n",
      "127.0.0.1 - - [28/Oct/2021 15:42:00] \"\u001b[37mPOST /_dash-update-component HTTP/1.1\u001b[0m\" 200 -\n",
      "127.0.0.1 - - [28/Oct/2021 15:42:00] \"\u001b[37mPOST /_dash-update-component HTTP/1.1\u001b[0m\" 200 -\n",
      "127.0.0.1 - - [28/Oct/2021 15:42:01] \"\u001b[37mPOST /_dash-update-component HTTP/1.1\u001b[0m\" 200 -\n",
      "127.0.0.1 - - [28/Oct/2021 15:46:24] \"\u001b[37mGET /_dash-component-suites/dash/dcc/dash_core_components-shared.js.map HTTP/1.1\u001b[0m\" 200 -\n",
      "127.0.0.1 - - [28/Oct/2021 15:46:24] \"\u001b[37mGET /_dash-component-suites/dash/dash_table/bundle.js.map HTTP/1.1\u001b[0m\" 200 -\n",
      "127.0.0.1 - - [28/Oct/2021 15:46:24] \"\u001b[37mGET /_dash-component-suites/dash/dcc/dash_core_components.js.map HTTP/1.1\u001b[0m\" 200 -\n",
      "127.0.0.1 - - [28/Oct/2021 15:46:24] \"\u001b[37mGET /_dash-component-suites/dash/html/dash_html_components.min.js.map HTTP/1.1\u001b[0m\" 200 -\n",
      "127.0.0.1 - - [28/Oct/2021 15:46:24] \"\u001b[37mGET /_dash-dependencies HTTP/1.1\u001b[0m\" 200 -\n",
      "127.0.0.1 - - [28/Oct/2021 15:46:24] \"\u001b[37mGET /_dash-layout HTTP/1.1\u001b[0m\" 200 -\n",
      "127.0.0.1 - - [28/Oct/2021 15:46:24] \"\u001b[37mGET /_dash-component-suites/dash/dcc/async-graph.js HTTP/1.1\u001b[0m\" 200 -\n",
      "127.0.0.1 - - [28/Oct/2021 15:46:24] \"\u001b[37mGET /_dash-component-suites/dash/dcc/async-dropdown.js HTTP/1.1\u001b[0m\" 200 -\n",
      "127.0.0.1 - - [28/Oct/2021 15:46:24] \"\u001b[37mGET /_dash-component-suites/dash/dcc/async-plotlyjs.js HTTP/1.1\u001b[0m\" 200 -\n",
      "127.0.0.1 - - [28/Oct/2021 15:46:24] \"\u001b[37mGET /_dash-component-suites/dash/dcc/async-graph.js.map HTTP/1.1\u001b[0m\" 200 -\n",
      "127.0.0.1 - - [28/Oct/2021 15:46:24] \"\u001b[37mGET /_dash-component-suites/dash/dcc/async-dropdown.js.map HTTP/1.1\u001b[0m\" 200 -\n",
      "127.0.0.1 - - [28/Oct/2021 15:46:26] \"\u001b[37mPOST /_dash-update-component HTTP/1.1\u001b[0m\" 200 -\n",
      "127.0.0.1 - - [28/Oct/2021 15:46:26] \"\u001b[37mPOST /_dash-update-component HTTP/1.1\u001b[0m\" 200 -\n",
      "127.0.0.1 - - [28/Oct/2021 15:46:27] \"\u001b[37mPOST /_dash-update-component HTTP/1.1\u001b[0m\" 200 -\n",
      "127.0.0.1 - - [28/Oct/2021 15:46:33] \"\u001b[37mGET /_dash-dependencies HTTP/1.1\u001b[0m\" 200 -\n",
      "127.0.0.1 - - [28/Oct/2021 15:46:33] \"\u001b[37mGET /_dash-layout HTTP/1.1\u001b[0m\" 200 -\n",
      "127.0.0.1 - - [28/Oct/2021 15:46:33] \"\u001b[37mGET /_dash-component-suites/dash/dcc/async-graph.js HTTP/1.1\u001b[0m\" 200 -\n",
      "127.0.0.1 - - [28/Oct/2021 15:46:33] \"\u001b[37mGET /_dash-component-suites/dash/dcc/async-dropdown.js HTTP/1.1\u001b[0m\" 200 -\n",
      "127.0.0.1 - - [28/Oct/2021 15:46:33] \"\u001b[37mGET /_dash-component-suites/dash/dcc/async-plotlyjs.js HTTP/1.1\u001b[0m\" 200 -\n",
      "127.0.0.1 - - [28/Oct/2021 15:46:34] \"\u001b[37mPOST /_dash-update-component HTTP/1.1\u001b[0m\" 200 -\n",
      "127.0.0.1 - - [28/Oct/2021 15:46:35] \"\u001b[37mPOST /_dash-update-component HTTP/1.1\u001b[0m\" 200 -\n",
      "127.0.0.1 - - [28/Oct/2021 15:46:35] \"\u001b[37mPOST /_dash-update-component HTTP/1.1\u001b[0m\" 200 -\n"
     ]
    }
   ],
   "source": [
    "app.run_server()"
   ]
  },
  {
   "cell_type": "code",
   "execution_count": null,
   "metadata": {},
   "outputs": [],
   "source": []
  }
 ],
 "metadata": {
  "kernelspec": {
   "display_name": "Python 3",
   "language": "python",
   "name": "python3"
  },
  "language_info": {
   "codemirror_mode": {
    "name": "ipython",
    "version": 3
   },
   "file_extension": ".py",
   "mimetype": "text/x-python",
   "name": "python",
   "nbconvert_exporter": "python",
   "pygments_lexer": "ipython3",
   "version": "3.8.5"
  }
 },
 "nbformat": 4,
 "nbformat_minor": 4
}
